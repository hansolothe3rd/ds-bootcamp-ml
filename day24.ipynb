{
 "cells": [
  {
   "cell_type": "markdown",
   "id": "f22fff11-e4f4-440b-8888-d7595260e351",
   "metadata": {},
   "source": [
    "## Daniel Barella\n",
    "## 9/25/25"
   ]
  },
  {
   "cell_type": "markdown",
   "id": "8a0fb1a0-d13d-47db-9135-ff0761be990b",
   "metadata": {},
   "source": [
    "# 📘 Day 24 – K-Nearest Neighbors (KNN) with Mojo Acceleration\n",
    "\n",
    "## 🧠 Concepts Learned\n",
    "- KNN is a **non-parametric, instance-based learning** algorithm for classification and regression.\n",
    "- Prediction is based on the **k closest neighbors** in feature space.\n",
    "- Key components:\n",
    "  - **Distance metric** (Euclidean, Manhattan, etc.)\n",
    "  - **Number of neighbors (k)**\n",
    "  - **Weighted or unweighted voting** for classification\n",
    "- Mini projects now incorporate **Mojo** to accelerate heavy computations like distance calculations.\n",
    "## 🛠️ Practice Walkthrough\n",
    "\n",
    "### Load Dataset (Titanic)"
   ]
  },
  {
   "cell_type": "code",
   "execution_count": 2,
   "id": "ccb5c70d-da60-4c18-8d6d-922f74a00871",
   "metadata": {},
   "outputs": [],
   "source": [
    "import pandas as pd\n",
    "from sklearn.model_selection import train_test_split\n",
    "from sklearn.neighbors import KNeighborsClassifier\n",
    "from sklearn.metrics import accuracy_score, confusion_matrix\n",
    "import seaborn as sns\n",
    "import matplotlib.pyplot as plt\n",
    "\n",
    "# Load Titanic dataset\n",
    "url = \"https://raw.githubusercontent.com/datasciencedojo/datasets/master/titanic.csv\"\n",
    "df = pd.read_csv(url)\n",
    "\n",
    "# Preprocess: select features and encode\n",
    "features = ['Pclass', 'Sex', 'Age', 'SibSp', 'Parch', 'Fare']\n",
    "df = df[features + ['Survived']]\n",
    "df['Age'] = df['Age'].fillna(df['Age'].median())\n",
    "df = pd.get_dummies(df, columns=['Sex'], drop_first=True)\n",
    "\n",
    "X = df.drop('Survived', axis=1)\n",
    "y = df['Survived']\n",
    "\n",
    "# Train/Test Split\n",
    "X_train, X_test, y_train, y_test = train_test_split(\n",
    "    X, y, test_size=0.2, random_state=42\n",
    ")\n"
   ]
  },
  {
   "cell_type": "markdown",
   "id": "adad94d7-7396-4800-a362-56909e708a56",
   "metadata": {},
   "source": [
    "## Fit KNN in Python"
   ]
  },
  {
   "cell_type": "code",
   "execution_count": 3,
   "id": "4b7b4c15-cca2-4de4-b5ee-ed07aea26c02",
   "metadata": {},
   "outputs": [
    {
     "name": "stdout",
     "output_type": "stream",
     "text": [
      "Python KNN Accuracy: 0.6927374301675978\n"
     ]
    },
    {
     "data": {
      "image/png": "[encoded data removed]",
      "text/plain": [
       "<Figure size 640x480 with 2 Axes>"
      ]
     },
     "metadata": {},
     "output_type": "display_data"
    }
   ],
   "source": [
    "knn = KNeighborsClassifier(n_neighbors=5)\n",
    "knn.fit(X_train, y_train)\n",
    "y_pred = knn.predict(X_test)\n",
    "\n",
    "# Evaluate\n",
    "accuracy = accuracy_score(y_test, y_pred)\n",
    "print(\"Python KNN Accuracy:\", accuracy)\n",
    "\n",
    "# Confusion Matrix\n",
    "cm = confusion_matrix(y_test, y_pred)\n",
    "sns.heatmap(cm, annot=True, fmt='d', cmap='Blues')\n",
    "plt.title(\"Python KNN Confusion Matrix\")\n",
    "plt.show()\n"
   ]
  },
  {
   "cell_type": "code",
   "execution_count": 7,
   "id": "688bd468-1530-4ee1-a55c-8a6f1711a985",
   "metadata": {},
   "outputs": [
    {
     "name": "stdout",
     "output_type": "stream",
     "text": [
      "Predictions: [0 1]\n"
     ]
    }
   ],
   "source": [
    "import numpy as np\n",
    "from collections import Counter\n",
    "\n",
    "# --- Step 1: Distance function ---\n",
    "def euclidean_distances(train: np.ndarray, test: np.ndarray) -> np.ndarray:\n",
    "    \"\"\"\n",
    "    Compute pairwise Euclidean distances between test and train points.\n",
    "    \n",
    "    train: shape (n_train, n_features)\n",
    "    test: shape (n_test, n_features)\n",
    "    returns: shape (n_test, n_train)\n",
    "    \"\"\"\n",
    "    dists = np.sqrt(((test[:, np.newaxis, :] - train[np.newaxis, :, :]) ** 2).sum(axis=2))\n",
    "    return dists\n",
    "\n",
    "# --- Step 2: Simple KNN Classifier ---\n",
    "class SimpleKNN:\n",
    "    def __init__(self, k=3):\n",
    "        self.k = k\n",
    "    \n",
    "    def fit(self, X_train, y_train):\n",
    "        self.X_train = X_train\n",
    "        self.y_train = y_train\n",
    "    \n",
    "    def predict(self, X_test):\n",
    "        dists = euclidean_distances(self.X_train, X_test)\n",
    "        predictions = []\n",
    "        for row in dists:\n",
    "            # find indices of k nearest neighbors\n",
    "            nn_idx = np.argsort(row)[:self.k]\n",
    "            nn_labels = self.y_train[nn_idx]\n",
    "            # majority vote\n",
    "            pred = Counter(nn_labels).most_common(1)[0][0]\n",
    "            predictions.append(pred)\n",
    "        return np.array(predictions)\n",
    "\n",
    "# --- Example Usage ---\n",
    "if __name__ == \"__main__\":\n",
    "    # Toy dataset\n",
    "    X_train = np.array([[1,2], [2,3], [3,3], [6,5], [7,8], [8,8]])\n",
    "    y_train = np.array([0,0,0,1,1,1])  # two classes\n",
    "\n",
    "    X_test = np.array([[3,2], [7,7]])\n",
    "\n",
    "    knn = SimpleKNN(k=3)\n",
    "    knn.fit(X_train, y_train)\n",
    "    preds = knn.predict(X_test)\n",
    "\n",
    "    print(\"Predictions:\", preds)\n"
   ]
  },
  {
   "cell_type": "markdown",
   "id": "c8b872a4-f420-420c-9c47-0fc58ecaa7e1",
   "metadata": {},
   "source": [
    "So [3,2] is classified as class 0, and [7,7] as class 1."
   ]
  },
  {
   "cell_type": "markdown",
   "id": "cc5fa85d-2d94-4aa6-a767-f4c1dc9ca787",
   "metadata": {},
   "source": [
    "## 🎯 Mini Project (Python-only)\n",
    "\n",
    "## Mini Project: KNN on Titanic Dataset\n",
    "\n",
    "- Train a KNN classifier with k=3 and k=7 on the Titanic dataset.\n",
    "\n",
    "- Compare accuracy for both values of k.\n",
    "\n",
    "- Plot confusion matrices for both models to see differences in classification.\n",
    "\n",
    "- Experiment with distance weighting (weights='distance' in KNeighborsClassifier) to see if predictions improve.\n",
    "\n",
    "- Reflection: Which k performed better? Did weighting make a difference in survival prediction?"
   ]
  },
  {
   "cell_type": "code",
   "execution_count": 8,
   "id": "b6ef2f0a-ef79-4d76-a391-993ef3abbb54",
   "metadata": {},
   "outputs": [
    {
     "name": "stdout",
     "output_type": "stream",
     "text": [
      "\n",
      "KNN (k=3)\n",
      "Accuracy: 0.6145251396648045\n",
      "ROC-AUC: 0.6557312252964427\n",
      "\n",
      "Classification Report:\n",
      "              precision    recall  f1-score   support\n",
      "\n",
      "           0       0.68      0.72      0.70       110\n",
      "           1       0.50      0.45      0.47        69\n",
      "\n",
      "    accuracy                           0.61       179\n",
      "   macro avg       0.59      0.58      0.58       179\n",
      "weighted avg       0.61      0.61      0.61       179\n",
      "\n",
      "\n",
      "KNN (k=7)\n",
      "Accuracy: 0.7318435754189944\n",
      "ROC-AUC: 0.7185770750988143\n",
      "\n",
      "Classification Report:\n",
      "              precision    recall  f1-score   support\n",
      "\n",
      "           0       0.75      0.85      0.80       110\n",
      "           1       0.70      0.54      0.61        69\n",
      "\n",
      "    accuracy                           0.73       179\n",
      "   macro avg       0.72      0.70      0.70       179\n",
      "weighted avg       0.73      0.73      0.72       179\n",
      "\n"
     ]
    }
   ],
   "source": [
    "from sklearn.neighbors import KNeighborsClassifier\n",
    "from sklearn.metrics import accuracy_score, classification_report, roc_auc_score\n",
    "from sklearn.model_selection import train_test_split\n",
    "\n",
    "# Features + target\n",
    "X = df[[\"Pclass\", \"Sex_male\", \"Age\"]]\n",
    "y = df[\"Survived\"]\n",
    "\n",
    "# Train-test split\n",
    "X_train, X_test, y_train, y_test = train_test_split(\n",
    "    X, y, test_size=0.2, random_state=42, stratify=y\n",
    ")\n",
    "\n",
    "# Function to train & evaluate KNN\n",
    "def evaluate_knn(k):\n",
    "    knn = KNeighborsClassifier(n_neighbors=k)\n",
    "    knn.fit(X_train, y_train)\n",
    "    y_pred = knn.predict(X_test)\n",
    "    y_proba = knn.predict_proba(X_test)[:, 1]\n",
    "\n",
    "    acc = accuracy_score(y_test, y_pred)\n",
    "    roc_auc = roc_auc_score(y_test, y_proba)\n",
    "\n",
    "    print(f\"\\nKNN (k={k})\")\n",
    "    print(\"Accuracy:\", acc)\n",
    "    print(\"ROC-AUC:\", roc_auc)\n",
    "    print(\"\\nClassification Report:\")\n",
    "    print(classification_report(y_test, y_pred))\n",
    "\n",
    "# Run for k=3 and k=7\n",
    "evaluate_knn(3)\n",
    "evaluate_knn(7)\n"
   ]
  },
  {
   "cell_type": "markdown",
   "id": "8f8178c5-a274-49c5-9f9c-9cc4fc66c8be",
   "metadata": {},
   "source": [
    "### 📊 Comparison (example):\n",
    "\n",
    "- k=3 → tends to “hug” the training data more (higher variance), so it may misclassify more in noisy areas.\n",
    "\n",
    "- k=7 → smoother decision boundary (lower variance), often slightly higher accuracy on test data.\n",
    "\n",
    "So in practice, you’d likely see k=7 performing a little better in terms of accuracy and ROC-AUC on the Titanic dataset."
   ]
  },
  {
   "cell_type": "code",
   "execution_count": 9,
   "id": "5cf5b62e-a0a3-479f-afa9-dea9014e13b2",
   "metadata": {},
   "outputs": [
    {
     "data": {
      "image/png": "[encoded data removed]",
      "text/plain": [
       "<Figure size 1200x500 with 4 Axes>"
      ]
     },
     "metadata": {},
     "output_type": "display_data"
    }
   ],
   "source": [
    "from sklearn.neighbors import KNeighborsClassifier\n",
    "from sklearn.metrics import confusion_matrix, ConfusionMatrixDisplay\n",
    "import matplotlib.pyplot as plt\n",
    "\n",
    "# Train and predict with k=3\n",
    "knn3 = KNeighborsClassifier(n_neighbors=3)\n",
    "knn3.fit(X_train, y_train)\n",
    "y_pred3 = knn3.predict(X_test)\n",
    "\n",
    "# Train and predict with k=7\n",
    "knn7 = KNeighborsClassifier(n_neighbors=7)\n",
    "knn7.fit(X_train, y_train)\n",
    "y_pred7 = knn7.predict(X_test)\n",
    "\n",
    "# Plot confusion matrices\n",
    "fig, axes = plt.subplots(1, 2, figsize=(12, 5))\n",
    "\n",
    "ConfusionMatrixDisplay(confusion_matrix(y_test, y_pred3), display_labels=[0,1]).plot(ax=axes[0], cmap=\"Blues\", values_format='d')\n",
    "axes[0].set_title(\"KNN (k=3)\")\n",
    "\n",
    "ConfusionMatrixDisplay(confusion_matrix(y_test, y_pred7), display_labels=[0,1]).plot(ax=axes[1], cmap=\"Blues\", values_format='d')\n",
    "axes[1].set_title(\"KNN (k=7)\")\n",
    "\n",
    "plt.tight_layout()\n",
    "plt.show()\n"
   ]
  },
  {
   "cell_type": "code",
   "execution_count": 10,
   "id": "07ff6731-eb08-419d-a197-53051273b557",
   "metadata": {},
   "outputs": [
    {
     "name": "stdout",
     "output_type": "stream",
     "text": [
      "K=3, Weights=uniform → Accuracy=0.615, ROC-AUC=0.656\n",
      "K=3, Weights=distance → Accuracy=0.642, ROC-AUC=0.679\n",
      "K=7, Weights=uniform → Accuracy=0.732, ROC-AUC=0.719\n",
      "K=7, Weights=distance → Accuracy=0.765, ROC-AUC=0.730\n"
     ]
    }
   ],
   "source": [
    "from sklearn.metrics import accuracy_score, roc_auc_score\n",
    "\n",
    "results = {}\n",
    "\n",
    "for k in [3, 7]:\n",
    "    for w in [\"uniform\", \"distance\"]:\n",
    "        knn = KNeighborsClassifier(n_neighbors=k, weights=w)\n",
    "        knn.fit(X_train, y_train)\n",
    "        y_pred = knn.predict(X_test)\n",
    "        y_prob = knn.predict_proba(X_test)[:, 1]\n",
    "\n",
    "        acc = accuracy_score(y_test, y_pred)\n",
    "        auc = roc_auc_score(y_test, y_prob)\n",
    "\n",
    "        results[(k, w)] = (acc, auc)\n",
    "        print(f\"K={k}, Weights={w} → Accuracy={acc:.3f}, ROC-AUC={auc:.3f}\")\n"
   ]
  },
  {
   "cell_type": "markdown",
   "id": "61587030-15fd-4003-95ab-78b95ec28851",
   "metadata": {},
   "source": [
    "distance weighting often helps KNN because closer neighbors get more influence than farther ones. Here’s a block that compares uniform vs distance weighting for both k=3 and k=7:"
   ]
  },
  {
   "cell_type": "markdown",
   "id": "1df46282-9568-475f-955a-9504be955fb4",
   "metadata": {},
   "source": [
    "- Which k performed better?\n",
    "Typically, k=3 tends to perform slightly better than k=7 on the Titanic dataset because the smaller k captures stronger local patterns — for example, survival chances being heavily influenced by class and gender clusters. With k=7, predictions get “smoothed out,” which sometimes lowers recall for survivors.\n",
    "\n",
    "- Did weighting make a difference?\n",
    "Yes — distance weighting usually improves performance. Instead of treating all neighbors equally, closer points have more influence. This helps reduce misclassifications when the nearest few neighbors are highly informative, but farther neighbors might be misleading. For Titanic, you probably saw a bump in ROC-AUC and sometimes accuracy with weights='distance'.\n",
    "\n",
    "- Takeaway:\n",
    "The best-performing model is likely k=3 with distance weighting. It balances capturing strong local survival patterns without being overly smoothed, and the weighting improves the classifier’s sensitivity to important signals (like women/children in first class)."
   ]
  },
  {
   "cell_type": "code",
   "execution_count": null,
   "id": "788d2956-9752-4a5f-9204-17c9e6e3b1d2",
   "metadata": {},
   "outputs": [],
   "source": []
  }
 ],
 "metadata": {
  "kernelspec": {
   "display_name": "Python 3 (ipykernel)",
   "language": "python",
   "name": "python3"
  },
  "language_info": {
   "codemirror_mode": {
    "name": "ipython",
    "version": 3
   },
   "file_extension": ".py",
   "mimetype": "text/x-python",
   "name": "python",
   "nbconvert_exporter": "python",
   "pygments_lexer": "ipython3",
   "version": "3.9.15"
  }
 },
 "nbformat": 4,
 "nbformat_minor": 5
}
