{
 "cells": [
  {
   "cell_type": "markdown",
   "id": "33d9d9d2",
   "metadata": {},
   "source": [
    "## Daniel Barella\n",
    "## 9/20/25"
   ]
  },
  {
   "cell_type": "markdown",
   "id": "1c1bd6bf",
   "metadata": {},
   "source": [
    "# 📘 Day 21: Introduction to Machine Learning"
   ]
  },
  {
   "cell_type": "markdown",
   "id": "c41232e6",
   "metadata": {},
   "source": [
    "## 🧠 Concepts Learned\n",
    "\n",
    "- Machine Learning (ML): Teaching computers to learn patterns from data instead of hardcoding rules.\n",
    "\n",
    "- Types of ML:\n",
    "\n",
    "    - Supervised Learning → Data has labels (e.g., predicting house prices).\n",
    "\n",
    "    - Unsupervised Learning → Data has no labels (e.g., customer segmentation).\n",
    "\n",
    "- ML Workflow:\n",
    "\n",
    "1. Data Collection\n",
    "\n",
    "2. Data Cleaning & Preprocessing\n",
    "\n",
    "3. Train/Test Split\n",
    "\n",
    "4. Model Training\n",
    "\n",
    "5. Model Evaluation\n",
    "\n",
    "6. Tuning & Deployment"
   ]
  },
  {
   "cell_type": "markdown",
   "id": "d6546a08",
   "metadata": {},
   "source": [
    "# 🛠️ Practice Work\n",
    "📥 Load Example Dataset"
   ]
  },
  {
   "cell_type": "code",
   "execution_count": 2,
   "id": "d2de6660",
   "metadata": {},
   "outputs": [
    {
     "data": {
      "text/html": [
       "<div>\n",
       "<style scoped>\n",
       "    .dataframe tbody tr th:only-of-type {\n",
       "        vertical-align: middle;\n",
       "    }\n",
       "\n",
       "    .dataframe tbody tr th {\n",
       "        vertical-align: top;\n",
       "    }\n",
       "\n",
       "    .dataframe thead th {\n",
       "        text-align: right;\n",
       "    }\n",
       "</style>\n",
       "<table border=\"1\" class=\"dataframe\">\n",
       "  <thead>\n",
       "    <tr style=\"text-align: right;\">\n",
       "      <th></th>\n",
       "      <th>MedInc</th>\n",
       "      <th>HouseAge</th>\n",
       "      <th>AveRooms</th>\n",
       "      <th>AveBedrms</th>\n",
       "      <th>Population</th>\n",
       "      <th>AveOccup</th>\n",
       "      <th>Latitude</th>\n",
       "      <th>Longitude</th>\n",
       "      <th>MedHouseVal</th>\n",
       "    </tr>\n",
       "  </thead>\n",
       "  <tbody>\n",
       "    <tr>\n",
       "      <th>0</th>\n",
       "      <td>8.3252</td>\n",
       "      <td>41.0</td>\n",
       "      <td>6.984127</td>\n",
       "      <td>1.023810</td>\n",
       "      <td>322.0</td>\n",
       "      <td>2.555556</td>\n",
       "      <td>37.88</td>\n",
       "      <td>-122.23</td>\n",
       "      <td>4.526</td>\n",
       "    </tr>\n",
       "    <tr>\n",
       "      <th>1</th>\n",
       "      <td>8.3014</td>\n",
       "      <td>21.0</td>\n",
       "      <td>6.238137</td>\n",
       "      <td>0.971880</td>\n",
       "      <td>2401.0</td>\n",
       "      <td>2.109842</td>\n",
       "      <td>37.86</td>\n",
       "      <td>-122.22</td>\n",
       "      <td>3.585</td>\n",
       "    </tr>\n",
       "    <tr>\n",
       "      <th>2</th>\n",
       "      <td>7.2574</td>\n",
       "      <td>52.0</td>\n",
       "      <td>8.288136</td>\n",
       "      <td>1.073446</td>\n",
       "      <td>496.0</td>\n",
       "      <td>2.802260</td>\n",
       "      <td>37.85</td>\n",
       "      <td>-122.24</td>\n",
       "      <td>3.521</td>\n",
       "    </tr>\n",
       "    <tr>\n",
       "      <th>3</th>\n",
       "      <td>5.6431</td>\n",
       "      <td>52.0</td>\n",
       "      <td>5.817352</td>\n",
       "      <td>1.073059</td>\n",
       "      <td>558.0</td>\n",
       "      <td>2.547945</td>\n",
       "      <td>37.85</td>\n",
       "      <td>-122.25</td>\n",
       "      <td>3.413</td>\n",
       "    </tr>\n",
       "    <tr>\n",
       "      <th>4</th>\n",
       "      <td>3.8462</td>\n",
       "      <td>52.0</td>\n",
       "      <td>6.281853</td>\n",
       "      <td>1.081081</td>\n",
       "      <td>565.0</td>\n",
       "      <td>2.181467</td>\n",
       "      <td>37.85</td>\n",
       "      <td>-122.25</td>\n",
       "      <td>3.422</td>\n",
       "    </tr>\n",
       "  </tbody>\n",
       "</table>\n",
       "</div>"
      ],
      "text/plain": [
       "   MedInc  HouseAge  AveRooms  AveBedrms  Population  AveOccup  Latitude  \\\n",
       "0  8.3252      41.0  6.984127   1.023810       322.0  2.555556     37.88   \n",
       "1  8.3014      21.0  6.238137   0.971880      2401.0  2.109842     37.86   \n",
       "2  7.2574      52.0  8.288136   1.073446       496.0  2.802260     37.85   \n",
       "3  5.6431      52.0  5.817352   1.073059       558.0  2.547945     37.85   \n",
       "4  3.8462      52.0  6.281853   1.081081       565.0  2.181467     37.85   \n",
       "\n",
       "   Longitude  MedHouseVal  \n",
       "0    -122.23        4.526  \n",
       "1    -122.22        3.585  \n",
       "2    -122.24        3.521  \n",
       "3    -122.25        3.413  \n",
       "4    -122.25        3.422  "
      ]
     },
     "execution_count": 2,
     "metadata": {},
     "output_type": "execute_result"
    }
   ],
   "source": [
    "import pandas as pd\n",
    "from sklearn.datasets import fetch_california_housing\n",
    "\n",
    "# Load California Housing dataset\n",
    "housing = fetch_california_housing(as_frame=True)\n",
    "df = housing.frame\n",
    "df.head()\n"
   ]
  },
  {
   "cell_type": "markdown",
   "id": "76d9b8ea",
   "metadata": {},
   "source": [
    "### 📊 Train/Test Split"
   ]
  },
  {
   "cell_type": "code",
   "execution_count": 3,
   "id": "1472eb40",
   "metadata": {},
   "outputs": [
    {
     "data": {
      "text/plain": [
       "((16512, 8), (4128, 8))"
      ]
     },
     "execution_count": 3,
     "metadata": {},
     "output_type": "execute_result"
    }
   ],
   "source": [
    "from sklearn.model_selection import train_test_split\n",
    "\n",
    "X = df.drop(\"MedHouseVal\", axis=1)\n",
    "y = df[\"MedHouseVal\"]\n",
    "\n",
    "X_train, X_test, y_train, y_test = train_test_split(\n",
    "    X, y, test_size=0.2, random_state=42\n",
    ")\n",
    "\n",
    "X_train.shape, X_test.shape\n"
   ]
  },
  {
   "cell_type": "markdown",
   "id": "1381b642",
   "metadata": {},
   "source": [
    "### 🤖 Train First ML Model (Linear Regression)"
   ]
  },
  {
   "cell_type": "code",
   "execution_count": 4,
   "id": "718a2912",
   "metadata": {},
   "outputs": [
    {
     "name": "stdout",
     "output_type": "stream",
     "text": [
      "Intercept: -37.0232777060642\n",
      "Coefficients: [ 4.48674910e-01  9.72425752e-03 -1.23323343e-01  7.83144907e-01\n",
      " -2.02962058e-06 -3.52631849e-03 -4.19792487e-01 -4.33708065e-01]\n"
     ]
    }
   ],
   "source": [
    "from sklearn.linear_model import LinearRegression\n",
    "\n",
    "model = LinearRegression()\n",
    "model.fit(X_train, y_train)\n",
    "\n",
    "print(\"Intercept:\", model.intercept_)\n",
    "print(\"Coefficients:\", model.coef_)\n"
   ]
  },
  {
   "cell_type": "markdown",
   "id": "8a394295",
   "metadata": {},
   "source": [
    "### 📈 Model Evaluation"
   ]
  },
  {
   "cell_type": "code",
   "execution_count": 5,
   "id": "e1e57792",
   "metadata": {},
   "outputs": [
    {
     "name": "stdout",
     "output_type": "stream",
     "text": [
      "Mean Squared Error: 0.5558915986952437\n",
      "R² Score: 0.5757877060324512\n"
     ]
    }
   ],
   "source": [
    "from sklearn.metrics import mean_squared_error, r2_score\n",
    "\n",
    "y_pred = model.predict(X_test)\n",
    "\n",
    "mse = mean_squared_error(y_test, y_pred)\n",
    "r2 = r2_score(y_test, y_pred)\n",
    "\n",
    "print(\"Mean Squared Error:\", mse)\n",
    "print(\"R² Score:\", r2)\n"
   ]
  },
  {
   "cell_type": "markdown",
   "id": "2d8c7a83",
   "metadata": {},
   "source": [
    "## 🎯 Mini Project: Predict California Housing Prices\n",
    "\n",
    "Objective: Build a regression model to predict housing prices in California.\n",
    "\n",
    "- Load dataset, split into training/testing.\n",
    "\n",
    "- Train Linear Regression model.\n",
    "\n",
    "- Evaluate using MSE + R² Score.\n",
    "\n",
    "- Identify which features (e.g., median income, rooms) are most predictive."
   ]
  },
  {
   "cell_type": "code",
   "execution_count": 6,
   "id": "121528b9",
   "metadata": {},
   "outputs": [
    {
     "name": "stdout",
     "output_type": "stream",
     "text": [
      "      Feature  Coefficient\n",
      "3   AveBedrms     0.783145\n",
      "0      MedInc     0.448675\n",
      "7   Longitude    -0.433708\n",
      "6    Latitude    -0.419792\n",
      "2    AveRooms    -0.123323\n",
      "1    HouseAge     0.009724\n",
      "5    AveOccup    -0.003526\n",
      "4  Population    -0.000002\n"
     ]
    }
   ],
   "source": [
    "feature_importance = pd.DataFrame({\n",
    "    \"Feature\": X.columns,\n",
    "    \"Coefficient\": model.coef_\n",
    "}).sort_values(by=\"Coefficient\", key=abs, ascending=False)\n",
    "\n",
    "print(feature_importance)\n"
   ]
  },
  {
   "cell_type": "markdown",
   "id": "504fb8ca",
   "metadata": {},
   "source": [
    "Here’s what it means:\n",
    "\n",
    "MedInc (0.448675) → Median income is a strong positive predictor. Higher neighborhood income → higher house values.\n",
    "\n",
    "AveBedrms (0.783145) → Average bedrooms per household has the strongest coefficient, but be careful: this can be a bit misleading because it’s strongly tied to AveRooms (multicollinearity). It doesn’t literally mean “more bedrooms = higher price” in isolation.\n",
    "\n",
    "Longitude (-0.433708) & Latitude (-0.419792) → Location matters a lot. Since California is mapped west-to-east and north-to-south, these negative coefficients reflect geography: houses farther inland or north often cost less than coastal/SoCal properties.\n",
    "\n",
    "AveRooms (-0.123323) → Average rooms per household shows a slight negative coefficient — again probably due to correlation with other features.\n",
    "\n",
    "HouseAge (0.009724) → Slight positive effect, but not strong.\n",
    "\n",
    "AveOccup (-0.003526) & Population (-0.000002) → Very small effects."
   ]
  },
  {
   "cell_type": "code",
   "execution_count": 8,
   "id": "3d3ff0fe",
   "metadata": {},
   "outputs": [
    {
     "name": "stdout",
     "output_type": "stream",
     "text": [
      "      Feature  Coefficient\n",
      "6    Latitude    -0.899886\n",
      "7   Longitude    -0.870541\n",
      "0      MedInc     0.829619\n",
      "3   AveBedrms     0.305696\n",
      "2    AveRooms    -0.265527\n",
      "1    HouseAge     0.118752\n",
      "5    AveOccup    -0.039326\n",
      "4  Population    -0.004503\n"
     ]
    }
   ],
   "source": [
    "from sklearn.preprocessing import StandardScaler\n",
    "\n",
    "# Standardize features\n",
    "scaler = StandardScaler()\n",
    "X_scaled = scaler.fit_transform(X)\n",
    "\n",
    "# Train linear regression\n",
    "model = LinearRegression()\n",
    "model.fit(X_scaled, y)\n",
    "\n",
    "# Get coefficients in a DataFrame\n",
    "coeffs = pd.DataFrame({\n",
    "    \"Feature\": X.columns,\n",
    "    \"Coefficient\": model.coef_\n",
    "}).sort_values(by=\"Coefficient\", key=abs, ascending=False)\n",
    "\n",
    "print(coeffs)\n"
   ]
  },
  {
   "cell_type": "code",
   "execution_count": 9,
   "id": "e3c487fd",
   "metadata": {},
   "outputs": [
    {
     "data": {
      "text/plain": [
       "MedInc        0.829619\n",
       "HouseAge      0.118752\n",
       "AveRooms     -0.265527\n",
       "AveBedrms     0.305696\n",
       "Population   -0.004503\n",
       "AveOccup     -0.039326\n",
       "Latitude     -0.899886\n",
       "Longitude    -0.870541\n",
       "dtype: float64"
      ]
     },
     "execution_count": 9,
     "metadata": {},
     "output_type": "execute_result"
    }
   ],
   "source": [
    "import matplotlib.pyplot as plt\n",
    "\n",
    "# Match feature names with coefficients\n",
    "coefficients = pd.Series(model.coef_, index=X.columns)\n",
    "\n",
    "coefficients\n"
   ]
  },
  {
   "cell_type": "code",
   "execution_count": 10,
   "id": "32300f2a",
   "metadata": {},
   "outputs": [
    {
     "data": {
      "image/png": "[encoded data removed]",
      "text/plain": [
       "<Figure size 1000x600 with 1 Axes>"
      ]
     },
     "metadata": {},
     "output_type": "display_data"
    }
   ],
   "source": [
    "plt.figure(figsize=(10,6))\n",
    "coefficients.sort_values().plot(kind=\"barh\")\n",
    "plt.title(\"Feature Importance in Predicting Median House Value\")\n",
    "plt.xlabel(\"Coefficient Value\")\n",
    "plt.ylabel(\"Feature\")\n",
    "plt.show()\n"
   ]
  },
  {
   "cell_type": "code",
   "execution_count": null,
   "id": "19329fb0",
   "metadata": {},
   "outputs": [],
   "source": []
  }
 ],
 "metadata": {
  "kernelspec": {
   "display_name": "Python (dojo-env)",
   "language": "python",
   "name": "dojo-env"
  },
  "language_info": {
   "codemirror_mode": {
    "name": "ipython",
    "version": 3
   },
   "file_extension": ".py",
   "mimetype": "text/x-python",
   "name": "python",
   "nbconvert_exporter": "python",
   "pygments_lexer": "ipython3",
   "version": "3.9.15"
  },
  "toc": {
   "base_numbering": 1,
   "nav_menu": {},
   "number_sections": false,
   "sideBar": true,
   "skip_h1_title": false,
   "title_cell": "Table of Contents",
   "title_sidebar": "Contents",
   "toc_cell": false,
   "toc_position": {},
   "toc_section_display": true,
   "toc_window_display": false
  }
 },
 "nbformat": 4,
 "nbformat_minor": 5
}
