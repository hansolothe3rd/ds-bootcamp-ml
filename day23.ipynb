{
 "cells": [
  {
   "cell_type": "markdown",
   "id": "a0809e1c-68c9-4024-b0a8-85ff1a23c38b",
   "metadata": {},
   "source": [
    "# 📘 Day 23 – Logistic Regression (Classification)\n",
    "\n",
    "## 🧠 Concepts Learned\n",
    "- Logistic Regression is used for **classification**, not regression.  \n",
    "- Predicts probability that an instance belongs to a class (binary or multiclass).  \n",
    "- Uses the **sigmoid function** to map predictions to probabilities between 0 and 1.  \n",
    "- Key metrics:\n",
    "  - **Accuracy** → proportion of correct predictions\n",
    "  - **Precision & Recall** → handle class imbalance\n",
    "  - **F1 Score** → harmonic mean of precision & recall\n",
    "  - **ROC-AUC** → tradeoff between sensitivity and specificity\n",
    "- Assumptions:\n",
    "  1. Linear relationship between features and log-odds\n",
    "  2. Independence of observations\n",
    "  3. Little or no multicollinearity\n",
    "\n",
    "---\n",
    "\n",
    "## 🛠️ Practice Walkthrough\n",
    "\n",
    "### Load Dataset (Titanic)\n",
    "\n",
    "\n"
   ]
  },
  {
   "cell_type": "code",
   "execution_count": 1,
   "id": "f8c195c3-a3ec-4772-b555-fe8537b93133",
   "metadata": {},
   "outputs": [
    {
     "data": {
      "text/html": [
       "<div>\n",
       "<style scoped>\n",
       "    .dataframe tbody tr th:only-of-type {\n",
       "        vertical-align: middle;\n",
       "    }\n",
       "\n",
       "    .dataframe tbody tr th {\n",
       "        vertical-align: top;\n",
       "    }\n",
       "\n",
       "    .dataframe thead th {\n",
       "        text-align: right;\n",
       "    }\n",
       "</style>\n",
       "<table border=\"1\" class=\"dataframe\">\n",
       "  <thead>\n",
       "    <tr style=\"text-align: right;\">\n",
       "      <th></th>\n",
       "      <th>PassengerId</th>\n",
       "      <th>Survived</th>\n",
       "      <th>Pclass</th>\n",
       "      <th>Name</th>\n",
       "      <th>Sex</th>\n",
       "      <th>Age</th>\n",
       "      <th>SibSp</th>\n",
       "      <th>Parch</th>\n",
       "      <th>Ticket</th>\n",
       "      <th>Fare</th>\n",
       "      <th>Cabin</th>\n",
       "      <th>Embarked</th>\n",
       "    </tr>\n",
       "  </thead>\n",
       "  <tbody>\n",
       "    <tr>\n",
       "      <th>0</th>\n",
       "      <td>1</td>\n",
       "      <td>0</td>\n",
       "      <td>3</td>\n",
       "      <td>Braund, Mr. Owen Harris</td>\n",
       "      <td>male</td>\n",
       "      <td>22.0</td>\n",
       "      <td>1</td>\n",
       "      <td>0</td>\n",
       "      <td>A/5 21171</td>\n",
       "      <td>7.2500</td>\n",
       "      <td>NaN</td>\n",
       "      <td>S</td>\n",
       "    </tr>\n",
       "    <tr>\n",
       "      <th>1</th>\n",
       "      <td>2</td>\n",
       "      <td>1</td>\n",
       "      <td>1</td>\n",
       "      <td>Cumings, Mrs. John Bradley (Florence Briggs Th...</td>\n",
       "      <td>female</td>\n",
       "      <td>38.0</td>\n",
       "      <td>1</td>\n",
       "      <td>0</td>\n",
       "      <td>PC 17599</td>\n",
       "      <td>71.2833</td>\n",
       "      <td>C85</td>\n",
       "      <td>C</td>\n",
       "    </tr>\n",
       "    <tr>\n",
       "      <th>2</th>\n",
       "      <td>3</td>\n",
       "      <td>1</td>\n",
       "      <td>3</td>\n",
       "      <td>Heikkinen, Miss. Laina</td>\n",
       "      <td>female</td>\n",
       "      <td>26.0</td>\n",
       "      <td>0</td>\n",
       "      <td>0</td>\n",
       "      <td>STON/O2. 3101282</td>\n",
       "      <td>7.9250</td>\n",
       "      <td>NaN</td>\n",
       "      <td>S</td>\n",
       "    </tr>\n",
       "    <tr>\n",
       "      <th>3</th>\n",
       "      <td>4</td>\n",
       "      <td>1</td>\n",
       "      <td>1</td>\n",
       "      <td>Futrelle, Mrs. Jacques Heath (Lily May Peel)</td>\n",
       "      <td>female</td>\n",
       "      <td>35.0</td>\n",
       "      <td>1</td>\n",
       "      <td>0</td>\n",
       "      <td>113803</td>\n",
       "      <td>53.1000</td>\n",
       "      <td>C123</td>\n",
       "      <td>S</td>\n",
       "    </tr>\n",
       "    <tr>\n",
       "      <th>4</th>\n",
       "      <td>5</td>\n",
       "      <td>0</td>\n",
       "      <td>3</td>\n",
       "      <td>Allen, Mr. William Henry</td>\n",
       "      <td>male</td>\n",
       "      <td>35.0</td>\n",
       "      <td>0</td>\n",
       "      <td>0</td>\n",
       "      <td>373450</td>\n",
       "      <td>8.0500</td>\n",
       "      <td>NaN</td>\n",
       "      <td>S</td>\n",
       "    </tr>\n",
       "  </tbody>\n",
       "</table>\n",
       "</div>"
      ],
      "text/plain": [
       "   PassengerId  Survived  Pclass  \\\n",
       "0            1         0       3   \n",
       "1            2         1       1   \n",
       "2            3         1       3   \n",
       "3            4         1       1   \n",
       "4            5         0       3   \n",
       "\n",
       "                                                Name     Sex   Age  SibSp  \\\n",
       "0                            Braund, Mr. Owen Harris    male  22.0      1   \n",
       "1  Cumings, Mrs. John Bradley (Florence Briggs Th...  female  38.0      1   \n",
       "2                             Heikkinen, Miss. Laina  female  26.0      0   \n",
       "3       Futrelle, Mrs. Jacques Heath (Lily May Peel)  female  35.0      1   \n",
       "4                           Allen, Mr. William Henry    male  35.0      0   \n",
       "\n",
       "   Parch            Ticket     Fare Cabin Embarked  \n",
       "0      0         A/5 21171   7.2500   NaN        S  \n",
       "1      0          PC 17599  71.2833   C85        C  \n",
       "2      0  STON/O2. 3101282   7.9250   NaN        S  \n",
       "3      0            113803  53.1000  C123        S  \n",
       "4      0            373450   8.0500   NaN        S  "
      ]
     },
     "execution_count": 1,
     "metadata": {},
     "output_type": "execute_result"
    }
   ],
   "source": [
    "import pandas as pd\n",
    "from sklearn.model_selection import train_test_split\n",
    "from sklearn.linear_model import LogisticRegression\n",
    "from sklearn.metrics import accuracy_score, confusion_matrix, classification_report, roc_auc_score\n",
    "import seaborn as sns\n",
    "import matplotlib.pyplot as plt\n",
    "\n",
    "# Load Titanic dataset\n",
    "url = \"https://raw.githubusercontent.com/datasciencedojo/datasets/master/titanic.csv\"\n",
    "df = pd.read_csv(url)\n",
    "df.head()"
   ]
  },
  {
   "cell_type": "markdown",
   "id": "6aec4003-0fe5-4384-9ccf-46c031b690cb",
   "metadata": {},
   "source": [
    "## Preprocess Data"
   ]
  },
  {
   "cell_type": "code",
   "execution_count": 2,
   "id": "4c99e0e4-6859-4ed4-85d8-727f9f432be6",
   "metadata": {},
   "outputs": [],
   "source": [
    "# Select relevant features\n",
    "features = ['Pclass', 'Sex', 'Age', 'SibSp', 'Parch', 'Fare']\n",
    "df = df[features + ['Survived']]\n",
    "\n",
    "# Handle missing values\n",
    "df['Age'] = df['Age'].fillna(df['Age'].median())\n",
    "\n",
    "# Encode categorical variables\n",
    "df = pd.get_dummies(df, columns=['Sex'], drop_first=True)\n",
    "\n",
    "X = df.drop('Survived', axis=1)\n",
    "y = df['Survived']\n",
    "\n",
    "# Train/Test Split\n",
    "X_train, X_test, y_train, y_test = train_test_split(\n",
    "    X, y, test_size=0.2, random_state=42\n",
    ")\n"
   ]
  },
  {
   "cell_type": "markdown",
   "id": "5c475a9f-1447-44e5-bb2e-2fde07c8c38b",
   "metadata": {},
   "source": [
    "## Fit Logistic Regression"
   ]
  },
  {
   "cell_type": "code",
   "execution_count": 3,
   "id": "8a8e7b17-1fe2-49bd-9c3e-06534a9e5942",
   "metadata": {},
   "outputs": [
    {
     "data": {
      "text/plain": [
       "Sex_male   -2.610598\n",
       "Pclass     -0.928188\n",
       "SibSp      -0.315802\n",
       "Parch      -0.125203\n",
       "Age        -0.031452\n",
       "Fare        0.003434\n",
       "dtype: float64"
      ]
     },
     "execution_count": 3,
     "metadata": {},
     "output_type": "execute_result"
    }
   ],
   "source": [
    "model = LogisticRegression(max_iter=1000)\n",
    "model.fit(X_train, y_train)\n",
    "\n",
    "# Coefficients\n",
    "coefficients = pd.Series(model.coef_[0], index=X.columns)\n",
    "coefficients.sort_values()\n"
   ]
  },
  {
   "cell_type": "markdown",
   "id": "8411774a-eca3-48f0-ae8d-ef1787b73f84",
   "metadata": {},
   "source": [
    "## Evaluate Model"
   ]
  },
  {
   "cell_type": "code",
   "execution_count": 4,
   "id": "fddee84d-a991-42dc-936a-8154eb697c36",
   "metadata": {},
   "outputs": [
    {
     "name": "stdout",
     "output_type": "stream",
     "text": [
      "Accuracy: 0.8100558659217877\n",
      "\n",
      "Classification Report:\n",
      "               precision    recall  f1-score   support\n",
      "\n",
      "           0       0.81      0.88      0.84       105\n",
      "           1       0.80      0.72      0.76        74\n",
      "\n",
      "    accuracy                           0.81       179\n",
      "   macro avg       0.81      0.80      0.80       179\n",
      "weighted avg       0.81      0.81      0.81       179\n",
      "\n",
      "ROC-AUC: 0.8803088803088803\n"
     ]
    }
   ],
   "source": [
    "y_pred = model.predict(X_test)\n",
    "y_proba = model.predict_proba(X_test)[:,1]\n",
    "\n",
    "print(\"Accuracy:\", accuracy_score(y_test, y_pred))\n",
    "print(\"\\nClassification Report:\\n\", classification_report(y_test, y_pred))\n",
    "print(\"ROC-AUC:\", roc_auc_score(y_test, y_proba))\n"
   ]
  },
  {
   "cell_type": "markdown",
   "id": "8dbf80dd-8919-4a69-a003-b2f02bda7e0e",
   "metadata": {},
   "source": [
    "## Confusion Matrix Visualization"
   ]
  },
  {
   "cell_type": "code",
   "execution_count": 5,
   "id": "30080cfc-d11d-4c0c-99e9-c2042ab086f9",
   "metadata": {},
   "outputs": [
    {
     "data": {
      "image/png": "[encoded data removed]",
      "text/plain": [
       "<Figure size 600x400 with 2 Axes>"
      ]
     },
     "metadata": {},
     "output_type": "display_data"
    }
   ],
   "source": [
    "cm = confusion_matrix(y_test, y_pred)\n",
    "\n",
    "plt.figure(figsize=(6,4))\n",
    "sns.heatmap(cm, annot=True, fmt='d', cmap='Blues')\n",
    "plt.title(\"Confusion Matrix\")\n",
    "plt.xlabel(\"Predicted\")\n",
    "plt.ylabel(\"Actual\")\n",
    "plt.show()\n"
   ]
  },
  {
   "cell_type": "markdown",
   "id": "2f001f85-d165-4e07-bc9f-4a08f1072e52",
   "metadata": {},
   "source": [
    "## 🎯 Mini Project: Titanic Survival Prediction (Variation)\n",
    "\n",
    "- Try predicting survival using only 3–4 features (e.g., Pclass, Sex_male, Age) and compare performance to using all features.\n",
    "\n",
    "- Evaluate with accuracy, ROC-AUC, and confusion matrix.\n",
    "\n",
    "- Visualize predicted probabilities vs actual outcomes with a scatter or histogram.\n",
    "\n",
    "- Reflect: Which features seem most predictive of survival?"
   ]
  },
  {
   "cell_type": "code",
   "execution_count": 6,
   "id": "a713ffa3-6696-4c20-989b-9f530c2f3061",
   "metadata": {},
   "outputs": [
    {
     "name": "stdout",
     "output_type": "stream",
     "text": [
      "Reduced Model (Pclass, Sex, Age)\n",
      "Accuracy: 0.7821229050279329\n",
      "ROC-AUC: 0.8337944664031619\n",
      "\n",
      "Classification Report:\n",
      "              precision    recall  f1-score   support\n",
      "\n",
      "           0       0.81      0.84      0.83       110\n",
      "           1       0.73      0.70      0.71        69\n",
      "\n",
      "    accuracy                           0.78       179\n",
      "   macro avg       0.77      0.77      0.77       179\n",
      "weighted avg       0.78      0.78      0.78       179\n",
      "\n",
      "\n",
      "Confusion Matrix:\n",
      "[[92 18]\n",
      " [21 48]]\n"
     ]
    }
   ],
   "source": [
    "# Subset of features\n",
    "X_small = df[[\"Pclass\", \"Sex_male\", \"Age\"]]\n",
    "y = df[\"Survived\"]\n",
    "\n",
    "# Train-test split\n",
    "X_train, X_test, y_train, y_test = train_test_split(\n",
    "    X_small, y, test_size=0.2, random_state=42, stratify=y\n",
    ")\n",
    "\n",
    "# Train model\n",
    "logreg_small = LogisticRegression(max_iter=1000)\n",
    "logreg_small.fit(X_train, y_train)\n",
    "\n",
    "# Predictions\n",
    "y_pred_small = logreg_small.predict(X_test)\n",
    "y_proba_small = logreg_small.predict_proba(X_test)[:, 1]\n",
    "\n",
    "# Evaluation\n",
    "acc_small = accuracy_score(y_test, y_pred_small)\n",
    "roc_auc_small = roc_auc_score(y_test, y_proba_small)\n",
    "\n",
    "print(\"Reduced Model (Pclass, Sex, Age)\")\n",
    "print(\"Accuracy:\", acc_small)\n",
    "print(\"ROC-AUC:\", roc_auc_small)\n",
    "print(\"\\nClassification Report:\")\n",
    "print(classification_report(y_test, y_pred_small))\n",
    "print(\"\\nConfusion Matrix:\")\n",
    "print(confusion_matrix(y_test, y_pred_small))\n"
   ]
  },
  {
   "cell_type": "markdown",
   "id": "dd1e07ef-c427-416d-86a3-16d3118707c0",
   "metadata": {},
   "source": [
    "Using only Pclass, Sex, and Age as predictors, the reduced model achieved an accuracy of 78% and a ROC-AUC of 0.83, which is strong but slightly worse than the full model (accuracy 81%, ROC-AUC 0.88). The confusion matrix shows the reduced model struggles more with false negatives, meaning it misses some actual survivors. Overall, while the reduced model is simpler and still performs well, the full model benefits from additional features that improve recall and overall predictive power."
   ]
  },
  {
   "cell_type": "code",
   "execution_count": 8,
   "id": "a9c0e5c6-3297-49a1-9fc5-91a62b09a53a",
   "metadata": {},
   "outputs": [
    {
     "data": {
      "image/png": "[encoded data removed]",
      "text/plain": [
       "<Figure size 1000x600 with 1 Axes>"
      ]
     },
     "metadata": {},
     "output_type": "display_data"
    }
   ],
   "source": [
    "import matplotlib.pyplot as plt\n",
    "import seaborn as sns\n",
    "\n",
    "# Plot histogram of predicted probabilities\n",
    "plt.figure(figsize=(10,6))\n",
    "\n",
    "# Histogram for those who did NOT survive\n",
    "sns.histplot(y_proba_small[y_test == 0], color=\"red\", label=\"Did Not Survive\", kde=True, stat=\"density\", bins=25)\n",
    "\n",
    "# Histogram for those who survived\n",
    "sns.histplot(y_proba_small[y_test == 1], color=\"green\", label=\"Survived\", kde=True, stat=\"density\", bins=25)\n",
    "\n",
    "plt.title(\"Predicted Probabilities vs Actual Outcomes\")\n",
    "plt.xlabel(\"Predicted Probability of Survival\")\n",
    "plt.ylabel(\"Density\")\n",
    "plt.legend()\n",
    "plt.show()\n"
   ]
  },
  {
   "cell_type": "markdown",
   "id": "844e5a88-60e5-4e7f-a8c0-d44ae3e14c47",
   "metadata": {},
   "source": [
    "Based on your reduced model (Pclass, Sex_male, Age), the features that seem most predictive of survival are:\n",
    "\n",
    "Sex_male – Gender is the strongest predictor: females (Sex_male = 0) had a much higher chance of survival than males (Sex_male = 1).\n",
    "\n",
    "Pclass – Passenger class also matters: those in higher classes (1st or 2nd) had higher survival rates than those in 3rd class.\n",
    "\n",
    "Age – Younger passengers had a slightly higher chance of survival, but the effect is smaller compared to gender and class.\n",
    "\n",
    "Overall, gender dominates, followed by class, with age providing some additional nuance."
   ]
  },
  {
   "cell_type": "code",
   "execution_count": null,
   "id": "2c213cb5-6919-4ff1-b38a-72fab38e3270",
   "metadata": {},
   "outputs": [],
   "source": []
  }
 ],
 "metadata": {
  "kernelspec": {
   "display_name": "Python 3 (ipykernel)",
   "language": "python",
   "name": "python3"
  },
  "language_info": {
   "codemirror_mode": {
    "name": "ipython",
    "version": 3
   },
   "file_extension": ".py",
   "mimetype": "text/x-python",
   "name": "python",
   "nbconvert_exporter": "python",
   "pygments_lexer": "ipython3",
   "version": "3.9.15"
  }
 },
 "nbformat": 4,
 "nbformat_minor": 5
}
